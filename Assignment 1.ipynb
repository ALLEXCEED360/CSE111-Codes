{
 "cells": [
  {
   "cell_type": "code",
   "execution_count": null,
   "id": "115342c7",
   "metadata": {},
   "outputs": [],
   "source": [
    "#Name: Fardeen Alam\n",
    "#ID:21301116\n",
    "#Section:02\n",
    "#Assignment no:1"
   ]
  },
  {
   "cell_type": "code",
   "execution_count": null,
   "id": "c9399fc6",
   "metadata": {},
   "outputs": [],
   "source": [
    "#STRING"
   ]
  },
  {
   "cell_type": "code",
   "execution_count": 3,
   "id": "2c2a5178",
   "metadata": {},
   "outputs": [
    {
     "name": "stdout",
     "output_type": "stream",
     "text": [
      "Please enter a String:BaNaNa\n",
      "banana\n"
     ]
    }
   ],
   "source": [
    "#Task-1\n",
    "\n",
    "given_string=input('Please enter a String:')\n",
    "upper_count=0\n",
    "lower_count=0\n",
    "\n",
    "for iteration in given_string:\n",
    "    if ord(iteration)>=97 and ord(iteration)<=122:\n",
    "        lower_count=lower_count+1\n",
    "    else:\n",
    "        upper_count=upper_count+1\n",
    "if upper_count>lower_count:\n",
    "    print(given_string.upper())\n",
    "else:\n",
    "    print(given_string.lower())"
   ]
  },
  {
   "cell_type": "code",
   "execution_count": 6,
   "id": "0f9787a8",
   "metadata": {},
   "outputs": [
    {
     "name": "stdout",
     "output_type": "stream",
     "text": [
      "Please enter an input:Hello\n",
      "WORD\n"
     ]
    }
   ],
   "source": [
    "#Task-2\n",
    "\n",
    "given_input=input('Please enter an input:')\n",
    "if given_input.isalpha():\n",
    "    print('WORD')\n",
    "elif given_input.isdigit():\n",
    "    print('NUMBER')\n",
    "else:\n",
    "    print('MIXED')"
   ]
  },
  {
   "cell_type": "code",
   "execution_count": 8,
   "id": "a6c6f1f2",
   "metadata": {},
   "outputs": [
    {
     "name": "stdout",
     "output_type": "stream",
     "text": [
      "Please enter a String:coDIng\n",
      "BLANK\n"
     ]
    }
   ],
   "source": [
    "#Task-3\n",
    "\n",
    "given_string=input('Please enter a String:')\n",
    "new_string=''\n",
    "\n",
    "for iteration in range(len(given_string)):\n",
    "    count=iteration\n",
    "    if ord(given_string[iteration])>=65 and ord(given_string[iteration])<=90:\n",
    "        while ord(given_string[count+1])>=97 and ord(given_string[count+1])<=122:\n",
    "            new_string=new_string+given_string[count+1]\n",
    "            count=count+1\n",
    "        break\n",
    "if new_string=='':\n",
    "    print('BLANK')\n",
    "else:\n",
    "    print(new_string)"
   ]
  },
  {
   "cell_type": "code",
   "execution_count": 11,
   "id": "665196da",
   "metadata": {},
   "outputs": [
    {
     "name": "stdout",
     "output_type": "stream",
     "text": [
      "Please enter a String:The book is not too good! \n",
      "The book is not excellent! \n"
     ]
    }
   ],
   "source": [
    "#Task-4\n",
    "\n",
    "given_string=input('Please enter a String:')\n",
    "\n",
    "if 'too good' not in given_string:\n",
    "    print(given_string)\n",
    "else:\n",
    "    index=given_string.find('too good')\n",
    "    new_string=given_string[0:index]+'excellent'+given_string[index+8:]\n",
    "    print(new_string)\n"
   ]
  },
  {
   "cell_type": "code",
   "execution_count": 1,
   "id": "604e5983",
   "metadata": {},
   "outputs": [
    {
     "name": "stdout",
     "output_type": "stream",
     "text": [
      "Please enter the Strings:harry,hermione\n",
      "hrrhr\n"
     ]
    }
   ],
   "source": [
    "#Task-5\n",
    "\n",
    "given_strings=input('Please enter the Strings:')\n",
    "string_list=given_strings.split(',')\n",
    "string_1=string_list[0]\n",
    "string_2=string_list[1]\n",
    "common_st1=''\n",
    "common_st2=''\n",
    "new_string=''\n",
    "\n",
    "for iteration in string_1:\n",
    "    if iteration in string_2:\n",
    "        common_st1=common_st1+iteration\n",
    "for char in string_2:\n",
    "    if char in string_1:\n",
    "        common_st2=common_st2+char\n",
    "new_string=common_st1+common_st2\n",
    "\n",
    "if new_string=='':\n",
    "    print('Nothing in common.')\n",
    "else:\n",
    "    print(new_string)"
   ]
  },
  {
   "cell_type": "code",
   "execution_count": 4,
   "id": "c64cadfb",
   "metadata": {},
   "outputs": [
    {
     "name": "stdout",
     "output_type": "stream",
     "text": [
      "Please enter the Password:OhMyBR@CU20 \n",
      "OK\n"
     ]
    }
   ],
   "source": [
    "#Task-6\n",
    "\n",
    "given_password=input('Please enter the Password:')\n",
    "special_char=['_','$','#','@']\n",
    "special_flag=False\n",
    "upper_flag=False\n",
    "lower_flag=False\n",
    "digit_flag=False\n",
    "new_string=''\n",
    "\n",
    "for iteration in given_password:\n",
    "    if iteration.isdigit():\n",
    "        digit_flag=True\n",
    "    if iteration.isupper():\n",
    "        upper_flag=True\n",
    "    if iteration.islower():\n",
    "        lower_flag=True\n",
    "    if iteration in special_char:\n",
    "        special_flag=True\n",
    "if upper_flag==True and lower_flag==True and digit_flag==True and special_flag==True:\n",
    "    print('OK')\n",
    "else:\n",
    "    if upper_flag==False:\n",
    "        new_string=new_string+'Uppercase character missing,'\n",
    "    if lower_flag==False:\n",
    "        new_string=new_string+'Lowercase character missing,'\n",
    "    if special_flag==False:\n",
    "        new_string=new_string+'Special character missing,'\n",
    "    if digit_flag==False:\n",
    "        new_string=new_string+'Digit missing,'\n",
    "    print(new_string[:-1])"
   ]
  },
  {
   "cell_type": "code",
   "execution_count": null,
   "id": "cd37083d",
   "metadata": {},
   "outputs": [],
   "source": [
    "#LIST"
   ]
  },
  {
   "cell_type": "code",
   "execution_count": 1,
   "id": "200882cf",
   "metadata": {},
   "outputs": [
    {
     "name": "stdout",
     "output_type": "stream",
     "text": [
      "Please enter a Number:10\n",
      "Please enter a Number:2\n",
      "Please enter a Number:4\n",
      "Please enter a Number:3\n",
      "Please enter a Number:10\n",
      "Please enter a Number:2\n",
      "Please enter a Number:1\n",
      "Please enter a Number:0\n",
      "Please enter a Number:4\n",
      "Please enter a Number:STOP\n",
      "10 - 2 times \n",
      "2 - 2 times \n",
      "4 - 2 times \n",
      "3 - 1 times \n",
      "1 - 1 times \n",
      "0 - 1 times \n"
     ]
    }
   ],
   "source": [
    "#Task-1\n",
    "\n",
    "num_list=[]\n",
    "new_list=[]\n",
    "while True:\n",
    "    num_input=input('Please enter a Number:')\n",
    "    if num_input.upper()=='STOP':\n",
    "        break\n",
    "    num_list.append(num_input)\n",
    "\n",
    "for iteration in num_list:\n",
    "    val=[iteration,'-',num_list.count(iteration),'times']\n",
    "    if val not in new_list:\n",
    "        new_list.append(val)\n",
    "for elements in new_list:\n",
    "    for chars in elements:\n",
    "        print(chars,end=' ')\n",
    "    print()"
   ]
  },
  {
   "cell_type": "code",
   "execution_count": 1,
   "id": "c5508d14",
   "metadata": {},
   "outputs": [
    {
     "name": "stdout",
     "output_type": "stream",
     "text": [
      "Please enter the number of lists:4\n",
      "Please enter the numbers for the list:1 2 3\n",
      "Please enter the numbers for the list:4 5 6\n",
      "Please enter the numbers for the list:10 11 12\n",
      "Please enter the numbers for the list:7 8 9\n",
      "33\n",
      "[10, 11, 12]\n"
     ]
    }
   ],
   "source": [
    "#Task-2\n",
    "\n",
    "quantity=int(input('Please enter the number of lists:'))\n",
    "max_list=[]\n",
    "max_sum=0\n",
    "temp_list=[]\n",
    "sum=0\n",
    "\n",
    "for iteration in range(quantity):\n",
    "    user_input=input('Please enter the numbers for the list:')\n",
    "    user_list=user_input.split()\n",
    "    for values in user_list:\n",
    "        sum=sum+int(values)\n",
    "        temp_list.append(int(values))\n",
    "    if sum>max_sum:\n",
    "        max_list=temp_list\n",
    "        max_sum=sum\n",
    "    sum=0\n",
    "    temp_list=[]\n",
    "print(max_sum)\n",
    "print(max_list)"
   ]
  },
  {
   "cell_type": "code",
   "execution_count": 2,
   "id": "7ec751b0",
   "metadata": {},
   "outputs": [
    {
     "name": "stdout",
     "output_type": "stream",
     "text": [
      "[6, 8, 10, 9, 12, 15, 18, 24, 30]\n"
     ]
    }
   ],
   "source": [
    "#Task-3\n",
    "\n",
    "given_list1=[2,3,6]\n",
    "given_list2=[3,4,5]\n",
    "new_list=[]\n",
    "\n",
    "for iteration in given_list1:\n",
    "    for values in given_list2:\n",
    "        multiply=iteration*values\n",
    "        new_list.append(multiply)\n",
    "print(new_list)"
   ]
  },
  {
   "cell_type": "code",
   "execution_count": 1,
   "id": "ffba5922",
   "metadata": {},
   "outputs": [
    {
     "name": "stdout",
     "output_type": "stream",
     "text": [
      "Please enter numbers:1 4 2 3\n",
      "UB Jumper\n",
      "Please enter numbers:2 1 4 6 10\n",
      "UB Jumper\n",
      "Please enter numbers:1 4 2 -1 6\n",
      "Not UB Jumper\n",
      "Please enter numbers:STOP\n"
     ]
    }
   ],
   "source": [
    "#Task-4\n",
    "\n",
    "range_list=[]\n",
    "int_num_list=[]\n",
    "difference_list=[]\n",
    "\n",
    "while True:\n",
    "    numbers=input('Please enter numbers:')\n",
    "    if numbers.upper()=='STOP':\n",
    "        break\n",
    "    num_list=numbers.split()\n",
    "    for values in num_list:\n",
    "        int_num_list.append(int(values))\n",
    "    for nums in range(1,len(int_num_list)):\n",
    "        range_list.append(nums)\n",
    "    for iteration in range(len(int_num_list)-1):\n",
    "        difference=abs(int_num_list[iteration+1]-int_num_list[iteration])\n",
    "        if difference not in difference_list:\n",
    "            difference_list.append(difference)\n",
    "        sort_list=sorted(difference_list)\n",
    "    if range_list==sort_list:\n",
    "        print('UB Jumper')\n",
    "    else:\n",
    "        print('Not UB Jumper')\n",
    "    range_list=[]\n",
    "    int_num_list=[]\n",
    "    difference_list=[]"
   ]
  },
  {
   "cell_type": "code",
   "execution_count": 5,
   "id": "5a553fa6",
   "metadata": {},
   "outputs": [
    {
     "name": "stdout",
     "output_type": "stream",
     "text": [
      "Please enter a String:Bracu1234 \n",
      "acruB1324\n"
     ]
    }
   ],
   "source": [
    "#Task-5\n",
    "\n",
    "given_string=input('Please enter a String:')\n",
    "sorted_string=''\n",
    "lowercase=[]\n",
    "uppercase=[]\n",
    "odd_numbers=[]\n",
    "even_numbers=[]\n",
    "\n",
    "for iteration in given_string:\n",
    "    if iteration.isupper():\n",
    "        uppercase.append(iteration)\n",
    "        sort_uppercase=sorted(uppercase)\n",
    "    if iteration .islower():\n",
    "        lowercase.append(iteration)\n",
    "        sort_lowercase=sorted(lowercase)\n",
    "    if iteration.isdigit():\n",
    "        if int(iteration)%2==0:\n",
    "            even_numbers.append(iteration)\n",
    "            sort_even=sorted(even_numbers)\n",
    "        else:\n",
    "            odd_numbers.append(iteration)\n",
    "            sort_odd=sorted(odd_numbers)\n",
    "for char in sort_lowercase:\n",
    "    sorted_string=sorted_string+char\n",
    "for char in sort_uppercase:\n",
    "    sorted_string=sorted_string+char\n",
    "for char in sort_odd:\n",
    "    sorted_string=sorted_string+char\n",
    "for char in sort_even:\n",
    "    sorted_string=sorted_string+char\n",
    "print(sorted_string)"
   ]
  },
  {
   "cell_type": "code",
   "execution_count": 2,
   "id": "326a5be6",
   "metadata": {},
   "outputs": [
    {
     "name": "stdout",
     "output_type": "stream",
     "text": [
      "Please enter the value of n and k:5 2\n",
      "Please enter the values of y:0 4 5 1 0\n",
      "1\n"
     ]
    }
   ],
   "source": [
    "#Task-6\n",
    "\n",
    "nk_value=input('Please enter the value of n and k:')\n",
    "nk_list=nk_value.split()\n",
    "participation=input('Please enter the values of y:')\n",
    "participation_list=participation.split()\n",
    "eligible_count=0\n",
    "for values in participation_list:\n",
    "    if (int(values)+int(nk_list[1]))<=5:\n",
    "        eligible_count=eligible_count+1\n",
    "teams_formed=eligible_count//3\n",
    "print(teams_formed)"
   ]
  },
  {
   "cell_type": "code",
   "execution_count": null,
   "id": "0d98a633",
   "metadata": {},
   "outputs": [],
   "source": [
    "#DICTIONARY AND TUPLE"
   ]
  },
  {
   "cell_type": "code",
   "execution_count": 11,
   "id": "675e8610",
   "metadata": {},
   "outputs": [
    {
     "name": "stdout",
     "output_type": "stream",
     "text": [
      "Please enter the input for dictionary 1:a:100,b:100,c:200,d:300 \n",
      "Please enter the input for dictionary 2:a:300,b:200,d:400,e:200 \n",
      "{'a': 400, 'b': 300, 'c': 200, 'd': 700, 'e': 200}\n",
      "(200, 300, 400, 700)\n"
     ]
    }
   ],
   "source": [
    "#Task-1\n",
    "\n",
    "dict1_input=input('Please enter the input for dictionary 1:')\n",
    "dict1={}\n",
    "list_1=dict1_input.split(',')\n",
    "for iteration in list_1:\n",
    "    key,value=iteration.split(':')\n",
    "    dict1[key]=int(value)\n",
    "dict2_input=input('Please enter the input for dictionary 2:')\n",
    "dict2={}\n",
    "list_2=dict2_input.split(',')\n",
    "for iteration in list_2:\n",
    "    key,value=iteration.split(':')\n",
    "    dict2[key]=int(value)\n",
    "for key,value in dict2.items():\n",
    "    if dict1.get(key)==None:\n",
    "        dict1[key]=value\n",
    "    else:\n",
    "        dict1[key]=dict1[key]+value\n",
    "new_list=[]\n",
    "for val in dict1.values():\n",
    "    if val not in new_list:\n",
    "        new_list.append(val)\n",
    "        sorted_list=sorted(new_list)\n",
    "        new_tuple=tuple(sorted_list)\n",
    "print(dict1)\n",
    "print(new_tuple)"
   ]
  },
  {
   "cell_type": "code",
   "execution_count": 12,
   "id": "71d88ef4",
   "metadata": {},
   "outputs": [
    {
     "name": "stdout",
     "output_type": "stream",
     "text": [
      "Please enter a Number:10\n",
      "Please enter a Number:4\n",
      "Please enter a Number:3\n",
      "Please enter a Number:7\n",
      "Please enter a Number:10\n",
      "Please enter a Number:2\n",
      "Please enter a Number:4\n",
      "Please enter a Number:4\n",
      "Please enter a Number:9\n",
      "Please enter a Number:STOP\n",
      "10 - 2 times\n",
      "4 - 3 times\n",
      "3 - 1 times\n",
      "7 - 1 times\n",
      "2 - 1 times\n",
      "9 - 1 times\n"
     ]
    }
   ],
   "source": [
    "#Task-2\n",
    "\n",
    "dict_1={}\n",
    "while True:\n",
    "    num_input=input('Please enter a Number:')\n",
    "    if num_input.upper()=='STOP':\n",
    "        break\n",
    "    if int(num_input) not in dict_1:\n",
    "        dict_1[int(num_input)]=1\n",
    "    else:\n",
    "        dict_1[int(num_input)]=dict_1[int(num_input)]+1\n",
    "for key,value in dict_1.items():\n",
    "    print(key,'-',value,'times')"
   ]
  },
  {
   "cell_type": "code",
   "execution_count": 1,
   "id": "be338e23",
   "metadata": {},
   "outputs": [
    {
     "name": "stdout",
     "output_type": "stream",
     "text": [
      "Please enter the input for dictionary 1:key1:value1,key2:value2,key3:value1\n",
      "{'value1': ['key1', 'key3'], 'value2': ['key2']}\n"
     ]
    }
   ],
   "source": [
    "#Task-3\n",
    "\n",
    "dict1_input=input('Please enter the input for dictionary 1:')\n",
    "dict1={}\n",
    "list_1=dict1_input.split(',')\n",
    "for iteration in list_1:\n",
    "    key,value=iteration.split(':')\n",
    "    dict1[key]=value\n",
    "new_dict={}\n",
    "for keys,values in dict1.items():\n",
    "    if values not in new_dict:\n",
    "        new_dict[values]=[keys]\n",
    "    else:\n",
    "        new_dict[values].append(keys)\n",
    "print(new_dict)"
   ]
  },
  {
   "cell_type": "code",
   "execution_count": 6,
   "id": "4d2fa2a0",
   "metadata": {},
   "outputs": [
    {
     "name": "stdout",
     "output_type": "stream",
     "text": [
      "Please enter string 1:live\n",
      "Please enter string 2:evil\n",
      "Those strings are anagrams.\n"
     ]
    }
   ],
   "source": [
    "#Task-4\n",
    "\n",
    "user_input1=input('Please enter string 1:')\n",
    "user_input2=input('Please enter string 2:')\n",
    "dict1={}\n",
    "dict2={}\n",
    "\n",
    "if user_input1==user_input2:\n",
    "    print('Those strings are not anagrams.')\n",
    "else:\n",
    "    for iteration in user_input1:\n",
    "        if iteration not in dict1:\n",
    "            dict1[iteration] = 1\n",
    "        else:\n",
    "            dict1[iteration] = dict1[iteration] + 1\n",
    "    for letter in user_input2:\n",
    "        if letter not in dict2:\n",
    "            dict2[letter] = 1\n",
    "        else:\n",
    "            dict2[letter] = dict2[letter] + 1\n",
    "\n",
    "    if dict2 == dict1:\n",
    "        print('Those strings are anagrams.')\n",
    "    else:\n",
    "        print('Those strings are not anagrams.')"
   ]
  },
  {
   "cell_type": "code",
   "execution_count": 1,
   "id": "c3768b65",
   "metadata": {},
   "outputs": [
    {
     "name": "stdout",
     "output_type": "stream",
     "text": [
      "Please enter a String:Hello, World!\n",
      "4433555555666110966677755531111\n"
     ]
    }
   ],
   "source": [
    "#Task-5\n",
    "\n",
    "string_input=input('Please enter a String:').upper()\n",
    "new_string=''\n",
    "keypad={1:['.',',','?','!',':'],2:['A','B','C'],3:['D','E','F'],4:['G','H','I'],5:['J','K','L'],6:['M','N','O'],\n",
    "        7:['P','Q','R','S'],8:['T','U','V'],9:['W','X','Y','Z'],0:[' ']}\n",
    "for iteration in string_input:\n",
    "        for key,value in keypad.items():\n",
    "                if iteration in value:\n",
    "                        for nums in range((value.index(iteration))+1):\n",
    "                                new_string=new_string+str(key)\n",
    "print(new_string)"
   ]
  }
 ],
 "metadata": {
  "kernelspec": {
   "display_name": "Python 3",
   "language": "python",
   "name": "python3"
  },
  "language_info": {
   "codemirror_mode": {
    "name": "ipython",
    "version": 3
   },
   "file_extension": ".py",
   "mimetype": "text/x-python",
   "name": "python",
   "nbconvert_exporter": "python",
   "pygments_lexer": "ipython3",
   "version": "3.8.8"
  }
 },
 "nbformat": 4,
 "nbformat_minor": 5
}
