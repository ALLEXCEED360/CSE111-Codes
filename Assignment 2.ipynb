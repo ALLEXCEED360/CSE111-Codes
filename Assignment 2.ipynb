{
 "cells": [
  {
   "cell_type": "code",
   "execution_count": null,
   "id": "8771d0a4",
   "metadata": {},
   "outputs": [],
   "source": [
    "#Name: Fardeen Alam\n",
    "#ID:21301116\n",
    "#Section:02\n",
    "#Assignment no:2"
   ]
  },
  {
   "cell_type": "code",
   "execution_count": 1,
   "id": "3efeb7a2",
   "metadata": {},
   "outputs": [
    {
     "name": "stdout",
     "output_type": "stream",
     "text": [
      "0.5\n",
      "0\n",
      "0\n"
     ]
    }
   ],
   "source": [
    "#TASK-1\n",
    "\n",
    "def fraction(val_1,val_2):\n",
    "    if val_1==0 or val_2==0:\n",
    "        return 0\n",
    "    else:\n",
    "        division=val_1/val_2\n",
    "        floor_division=val_1//val_2\n",
    "        left_fraction=division-floor_division\n",
    "        return left_fraction\n",
    "print(fraction(5,2))\n",
    "print(fraction(5,0))\n",
    "print(fraction(0,5))"
   ]
  },
  {
   "cell_type": "code",
   "execution_count": 2,
   "id": "6f216801",
   "metadata": {},
   "outputs": [
    {
     "name": "stdout",
     "output_type": "stream",
     "text": [
      "Score is 31.3. You are Obese\n",
      "Score is 20.8. You are Normal\n"
     ]
    }
   ],
   "source": [
    "#TASK-2\n",
    "\n",
    "def body_mass_index(height,weight):\n",
    "    height=height*10**(-2)\n",
    "    bmi=round(weight/(height)**2,1)\n",
    "    if bmi<18.5:\n",
    "        condition='Underweight'\n",
    "    elif bmi>=18.5 and bmi<=24.9:\n",
    "        condition='Normal'\n",
    "    elif bmi>=25 and bmi<=30:\n",
    "        condition='Overweight'\n",
    "    elif bmi>30:\n",
    "        condition='Obese'\n",
    "    print('Score is',str(bmi)+'.','You are',condition)\n",
    "body_mass_index(175,96)\n",
    "body_mass_index(152,48)"
   ]
  },
  {
   "cell_type": "code",
   "execution_count": 3,
   "id": "d00a216d",
   "metadata": {},
   "outputs": [
    {
     "name": "stdout",
     "output_type": "stream",
     "text": [
      "20\n",
      "45\n"
     ]
    }
   ],
   "source": [
    "#TASK-3\n",
    "\n",
    "def sum_divisors(minimum,maximum,divisor):\n",
    "    sum=0\n",
    "    for iteration in range(minimum,maximum):\n",
    "        if iteration%divisor==0:\n",
    "            sum=sum+iteration\n",
    "    return sum\n",
    "print(sum_divisors(0,10,2))\n",
    "print(sum_divisors(3,16,3))"
   ]
  },
  {
   "cell_type": "code",
   "execution_count": 4,
   "id": "8d9717a3",
   "metadata": {},
   "outputs": [
    {
     "name": "stdout",
     "output_type": "stream",
     "text": [
      "243.6\n",
      "223.6\n"
     ]
    }
   ],
   "source": [
    "#TASK-4\n",
    "\n",
    "def total_cost(burger,location='Moakhali'):\n",
    "    if burger=='BBQ Chicken Cheese Burger':\n",
    "        meal_cost=250\n",
    "    elif burger=='Beef Burger':\n",
    "        meal_cost=170\n",
    "    elif burger=='Naga Drums':\n",
    "        meal_cost=200\n",
    "    tax=meal_cost*(8/100)\n",
    "    if location=='Moakhali':\n",
    "        delivery_charge=40\n",
    "    else:\n",
    "        delivery_charge=60\n",
    "    total_price=meal_cost+tax+delivery_charge\n",
    "    print(total_price)\n",
    "total_cost('Beef Burger','Dhanmondi')\n",
    "total_cost('Beef Burger')"
   ]
  },
  {
   "cell_type": "code",
   "execution_count": 5,
   "id": "c01ed56d",
   "metadata": {},
   "outputs": [
    {
     "name": "stdout",
     "output_type": "stream",
     "text": [
      "Changed: alice@sheba.xyz\n",
      "Unchanged: bob@sheba.xyz\n"
     ]
    }
   ],
   "source": [
    "#TASK-5\n",
    "\n",
    "def replace_domain(email_address,new_domain,old_domain='sheba.xyz'):\n",
    "    if old_domain=='sheba.xyz':\n",
    "        print('Unchanged:',email_address)\n",
    "    else:\n",
    "        new_mail=''\n",
    "        for iteration in email_address:\n",
    "            if iteration=='@':\n",
    "                break\n",
    "            else:\n",
    "                new_mail=new_mail+iteration\n",
    "        new_mail=new_mail+'@'+new_domain\n",
    "        print('Changed:',new_mail)\n",
    "\n",
    "replace_domain('alice@kaaj.com','sheba.xyz','kaaj.com')\n",
    "replace_domain('bob@sheba.xyz','sheba.xyz')"
   ]
  },
  {
   "cell_type": "code",
   "execution_count": 7,
   "id": "44424872",
   "metadata": {},
   "outputs": [
    {
     "name": "stdout",
     "output_type": "stream",
     "text": [
      "Vowels: e,e,o. Total number of vowels: 3\n",
      "No vowels in the name\n"
     ]
    }
   ],
   "source": [
    "#TASK-6\n",
    "\n",
    "def vowel_count(full_name):\n",
    "    vowel_list=['a','e','i','o','u','A','E','I','O','U']\n",
    "    count=0\n",
    "    vowel_string=''\n",
    "    for iteration in full_name:\n",
    "        if iteration in vowel_list:\n",
    "            count=count+1\n",
    "            vowel_string=vowel_string+iteration+','\n",
    "    if count==0:\n",
    "        print('No vowels in the name')\n",
    "    else:\n",
    "        print('Vowels:',vowel_string[:-1]+'.','Total number of vowels:',count)\n",
    "vowel_count('Steve Jobs')\n",
    "vowel_count('XYZ')"
   ]
  },
  {
   "cell_type": "code",
   "execution_count": 1,
   "id": "ef408c8b",
   "metadata": {},
   "outputs": [
    {
     "name": "stdout",
     "output_type": "stream",
     "text": [
      "Palindrome\n",
      "Not a palindrome\n",
      "Palindrome\n"
     ]
    }
   ],
   "source": [
    "#TASK-7\n",
    "\n",
    "def palindrome_checker(given_string):\n",
    "    new_string=''\n",
    "    for iteration in given_string:\n",
    "        if iteration!=' ':\n",
    "            new_string=new_string+iteration\n",
    "    flag=True\n",
    "    for character in range(len(new_string)//2):\n",
    "        if new_string[character]!=new_string[-character-1]:\n",
    "            flag=False\n",
    "        else:\n",
    "            flag=True\n",
    "    if flag==True:\n",
    "        print('Palindrome')\n",
    "    else:\n",
    "        print('Not a palindrome')\n",
    "\n",
    "palindrome_checker('madam')\n",
    "palindrome_checker('hello')\n",
    "palindrome_checker('nurses run')"
   ]
  },
  {
   "cell_type": "code",
   "execution_count": 2,
   "id": "0ead11d2",
   "metadata": {},
   "outputs": [
    {
     "name": "stdout",
     "output_type": "stream",
     "text": [
      "11 years, 10 months and 5 days\n",
      "10 years, 11 months and 20 days\n"
     ]
    }
   ],
   "source": [
    "#TASK-8\n",
    "\n",
    "def time_view(total_days):\n",
    "    years=total_days//365\n",
    "    rem_days1=total_days%365\n",
    "    months=rem_days1//30\n",
    "    rem_days2=rem_days1%30\n",
    "    print(years,'years,',months,'months and',rem_days2,'days')\n",
    "\n",
    "time_view(4320)\n",
    "time_view(4000)"
   ]
  },
  {
   "cell_type": "code",
   "execution_count": 1,
   "id": "3b537117",
   "metadata": {},
   "outputs": [
    {
     "name": "stdout",
     "output_type": "stream",
     "text": [
      "My favourite animal is a dog. A dog has sharp teeth so that it can eat flesh very easily. Do you know my pet dog’s name? I love my pet very much.\n"
     ]
    }
   ],
   "source": [
    "#TASK-9\n",
    "\n",
    "def capitalize(given_string):\n",
    "    signs = ['.', '?', '!']\n",
    "    flag = 0\n",
    "    new_string = ''\n",
    "    for iteration in range(len(given_string)):\n",
    "        if iteration == 0:\n",
    "            new_string = new_string + given_string[iteration].upper()\n",
    "        elif given_string[iteration] in signs:\n",
    "            flag = 1\n",
    "            new_string = new_string + given_string[iteration]\n",
    "        elif flag == 1:\n",
    "            if given_string[iteration] == ' ':\n",
    "                new_string = new_string + given_string[iteration]\n",
    "            else:\n",
    "                new_string = new_string + given_string[iteration].upper()\n",
    "                flag = 0\n",
    "        elif given_string[iteration] == 'i' and (\n",
    "                given_string[iteration + 1] == ' ' and given_string[iteration - 1] == ' '):\n",
    "            new_string = new_string + given_string[iteration].upper()\n",
    "        else:\n",
    "            new_string = new_string + given_string[iteration]\n",
    "    return new_string\n",
    "print(capitalize('my favourite animal is a dog. a dog has sharp teeth so that it can eat flesh very easily. do you know my pet dog’s name? i love my pet very much.'))"
   ]
  }
 ],
 "metadata": {
  "kernelspec": {
   "display_name": "Python 3",
   "language": "python",
   "name": "python3"
  },
  "language_info": {
   "codemirror_mode": {
    "name": "ipython",
    "version": 3
   },
   "file_extension": ".py",
   "mimetype": "text/x-python",
   "name": "python",
   "nbconvert_exporter": "python",
   "pygments_lexer": "ipython3",
   "version": "3.8.8"
  }
 },
 "nbformat": 4,
 "nbformat_minor": 5
}
